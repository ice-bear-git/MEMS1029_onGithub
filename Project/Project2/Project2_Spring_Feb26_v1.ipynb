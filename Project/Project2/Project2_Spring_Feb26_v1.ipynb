{
  "cells": [
    {
      "cell_type": "markdown",
      "metadata": {
        "id": "view-in-github",
        "colab_type": "text"
      },
      "source": [
        "<a href=\"https://colab.research.google.com/github/ice-bear-git/_MEMS1029_DesignII_onGithub/blob/main/Project/Project2/Project2_Spring_Feb26_v1.ipynb\" target=\"_parent\"><img src=\"https://colab.research.google.com/assets/colab-badge.svg\" alt=\"Open In Colab\"/></a>"
      ]
    },
    {
      "cell_type": "markdown",
      "metadata": {
        "id": "OfiprfRyyj58"
      },
      "source": [
        "# MEMS 1029 - Project 2 Spring Design\n",
        "\n",
        "Author: Ziang Cao [ZIC25]\n"
      ]
    },
    {
      "cell_type": "code",
      "source": [
        "import math\n",
        "import numpy as np\n",
        "pi = math.pi"
      ],
      "metadata": {
        "id": "Z8pWoJhOSMkv"
      },
      "execution_count": 29,
      "outputs": []
    },
    {
      "cell_type": "code",
      "execution_count": 2,
      "metadata": {
        "id": "Xjf5Ibq2Hegk"
      },
      "outputs": [],
      "source": [
        "# import matplotlib.pyplot as plt\n",
        "# import numpy as np\n",
        "# import sympy as sym\n",
        "# import math"
      ]
    },
    {
      "cell_type": "markdown",
      "metadata": {
        "id": "RFhjRlGoLJ7t"
      },
      "source": [
        "## Problem Statement\n",
        "\n",
        "**Figure out the required dimension for Spring.**  \n",
        "1. We might want to use multiple springs that arranged in a parallel way\n",
        "2. Figure out the required Coil Diameter and so on for specific wire material"
      ]
    },
    {
      "cell_type": "markdown",
      "source": [
        "## Declare Keep Constant"
      ],
      "metadata": {
        "id": "2MSebr5GTllt"
      }
    },
    {
      "cell_type": "code",
      "source": [
        "# We want to have 5 springs arranged in a parallel way to share the load\n",
        "N_spring = 5"
      ],
      "metadata": {
        "id": "bbZmmQahTkmO"
      },
      "execution_count": 18,
      "outputs": []
    },
    {
      "cell_type": "markdown",
      "source": [
        "## Section1: Find Equivalent K_eq"
      ],
      "metadata": {
        "id": "yRjWchD3P7Bs"
      }
    },
    {
      "cell_type": "code",
      "execution_count": 19,
      "metadata": {
        "id": "0dnU7nxNWnxj"
      },
      "outputs": [],
      "source": [
        "# U is in Nm; delta_x is in mm\n",
        "def return_K(U, delta_x):\n",
        "  num = 2*U\n",
        "  den = pow(delta_x,2)\n",
        "  K_eq = round((num/den),4)\n",
        "  text = \"For U= {} Nm and delta_x = {} mm, the equivalent K_eq = {} kN/m\".format(U, delta_x, K_eq)\n",
        "  print(text)\n",
        "  return K_eq      # unit: kN/m"
      ]
    },
    {
      "cell_type": "code",
      "source": [
        "def get_K(U, delta_x_list = [30, 40, 50, 60, 70]):\n",
        "  K_eq_list = [None] * len(delta_x_list)\n",
        "  for i in range(len(delta_x_list)):\n",
        "    K_eq_list[i] = return_K(U, delta_x_list[i])\n",
        "  text = \"\\nThe minimual K is {} kN/mm under U= {} Nm and delta_x = {} mm \".format(min(K_eq_list), U, delta_x_list[i])\n",
        "  print(text)\n",
        "  return K_eq_list"
      ],
      "metadata": {
        "id": "suOo0iS_P_wm"
      },
      "execution_count": 20,
      "outputs": []
    },
    {
      "cell_type": "code",
      "source": [
        "U = 10*3600 # Unit: Nm\n",
        "delta_x_list = [30, 40, 50] # Unit: mm\n",
        "K_eq_list = get_K(U = U, delta_x_list=delta_x_list)"
      ],
      "metadata": {
        "colab": {
          "base_uri": "https://localhost:8080/"
        },
        "id": "58VnAgd7Rb9Y",
        "outputId": "fefd960b-1538-4bfd-8ec6-ba627760b8b4"
      },
      "execution_count": 21,
      "outputs": [
        {
          "output_type": "stream",
          "name": "stdout",
          "text": [
            "For U= 36000 Nm and delta_x = 30 mm, the equivalent K_eq = 80.0 kN/m\n",
            "For U= 36000 Nm and delta_x = 40 mm, the equivalent K_eq = 45.0 kN/m\n",
            "For U= 36000 Nm and delta_x = 50 mm, the equivalent K_eq = 28.8 kN/m\n",
            "\n",
            "The minimual K is 28.8 kN/mm under U= 36000 Nm and delta_x = 50 mm \n"
          ]
        }
      ]
    },
    {
      "cell_type": "markdown",
      "source": [
        "### Select the desire delta_x and corresponding K_eq, K_each"
      ],
      "metadata": {
        "id": "sD2LeK79UuG8"
      }
    },
    {
      "cell_type": "code",
      "source": [
        "delta_x = 50  # mm\n",
        "K_eq = K_eq_list[-1]  # kN/mm\n",
        "K_each = K_eq/N_spring  # kN/mm\n",
        "print(\"The K for each individual Spring is {} in kN/mm\".format(K_each))\n",
        "\n",
        "F_max = delta_x * K_each\n",
        "print(\"\\nThe max Force on each Spring become {} kN\".format(F_max))\n",
        "\n",
        "y_max = delta_x\n",
        "print(\"\\nThe max delta x on each Spring is {} mm\".format(y_max))"
      ],
      "metadata": {
        "colab": {
          "base_uri": "https://localhost:8080/"
        },
        "id": "6wE-UIThThPA",
        "outputId": "52da720f-8412-41ec-b3ee-bdda98976554"
      },
      "execution_count": 30,
      "outputs": [
        {
          "output_type": "stream",
          "name": "stdout",
          "text": [
            "The K for each individual Spring is 5.76 in kN/mm\n",
            "\n",
            "The max Force on each Spring become 288.0 kN\n"
          ]
        }
      ]
    },
    {
      "cell_type": "markdown",
      "source": [
        "## Section2: Spring Design that Following EXAMPLE10-2 & Figure 10-3\n",
        "You may want to change the initial setup to match your design. Make sure add some description on your choice. Here is just a naiive design aiming to test through the whole process\n",
        "\n",
        "**Before I am aware of the design flowchart in Figure 10-3, Example 10-2 do show the identical way that we want to reproduce for Project 2. However, for this competition, the \"Over-a-rod\" type might more convenience to us, getting righ of spring buckling for us.**\n",
        "[See How to insert inline image on colab](https://stackoverflow.com/questions/50670920/how-to-insert-an-inline-image-in-google-colaboratory-from-google-drive)\n",
        "\n",
        "![picture](https://drive.google.com/uc?export=view&id=1GFMoS2OtgKbtiNYBgqDaiB_xEWa6083K)"
      ],
      "metadata": {
        "id": "z4RP2DTGSvDi"
      }
    },
    {
      "cell_type": "markdown",
      "source": [
        "### Input[you can change it!!!!!]\n",
        "Make sure you fill each blank below"
      ],
      "metadata": {
        "id": "F-n3_TTBVzTu"
      }
    },
    {
      "cell_type": "code",
      "source": [
        "# Wire Diameter \n",
        "# Read Table 10-5, 10-6\n",
        "d = 0.064*25.4    # mm\n",
        "\n",
        "G = 81            # GPa\n",
        "\n",
        "S_ut = 324 * 6.89 # MPa\n",
        "S_sy = 0.45*S_ut  # for as-wound spring from Table 10-6\n",
        "\n",
        "# Spring Index\n",
        "C = 8\n",
        "\n",
        "## Then the mean coil diameter is\n",
        "D = C * d     # mm\n",
        "\n",
        "d_rob = D - 2*d   # Assume allow~=d\n",
        "print(\"Only for the CAD drawing part, the rob inside of spring has diamater of {} mm\".format(d_rob))\n",
        "\n"
      ],
      "metadata": {
        "colab": {
          "base_uri": "https://localhost:8080/"
        },
        "id": "v5ZDSycvUimC",
        "outputId": "614925c1-8533-4523-e17e-a282a8b50d54"
      },
      "execution_count": 27,
      "outputs": [
        {
          "output_type": "stream",
          "name": "stdout",
          "text": [
            "Only for the CAD drawing part, the rob inside of spring has diamater of 9.753599999999999 mm\n"
          ]
        }
      ]
    },
    {
      "cell_type": "markdown",
      "source": [
        "### The Design Flow Chart\n",
        "![picture](https://drive.google.com/uc?export=view&id=1GElmtFYoA2J3uC2eKA0M6i75PmVETnd4)"
      ],
      "metadata": {
        "id": "ilvr5flUdMIY"
      }
    },
    {
      "cell_type": "code",
      "source": [
        "K_B = (4*C+2)/(4*C-3)   # Curvature factor\n",
        "\n",
        "# F_max is already defined at the end of Section 1\n",
        "epsino = 0.15\n",
        "tao_s = [8*K_B*(1+epsino)*F_max*D/(pi*pow(d,3))]*1e+03      # Unit: MPa\n",
        "\n",
        "n_s = S_sy / tao_s\n",
        "OD = D+d\n",
        "ID = D-d\n",
        "# G in GPa; d, y_max, D in mm; F_max in kN\n",
        "N_a = G*pow(d,4)*y_max / (8*pow(D,3)*F_max)"
      ],
      "metadata": {
        "id": "07QF1TitffKS"
      },
      "execution_count": null,
      "outputs": []
    },
    {
      "cell_type": "markdown",
      "source": [
        "### Read Table 10-1 for Length and Coild Number"
      ],
      "metadata": {
        "id": "1tO8wdUMfTmu"
      }
    },
    {
      "cell_type": "code",
      "source": [
        "# N_t =   #\n",
        "# L_s =   #\n",
        "# L_o =   #\n",
        "# alpha = 0.5   #\n",
        "# L_o_cr = 2.63* D / alpha    #"
      ],
      "metadata": {
        "id": "5WofwWsNiYUx"
      },
      "execution_count": null,
      "outputs": []
    },
    {
      "cell_type": "markdown",
      "source": [
        "### Keep iterating on your design and find the corresponding spring on [this webstie](https://b2b.partcommunity.com/3d-cad-models/sso?cwid=last&info=gutekunst%2Ffederdat%2Fdruck.prj)"
      ],
      "metadata": {
        "id": "5PKRyejRjL0U"
      }
    },
    {
      "cell_type": "markdown",
      "source": [
        "!! Shrink the size is also the main concern!"
      ],
      "metadata": {
        "id": "dvY44oo1jyC9"
      }
    }
  ],
  "metadata": {
    "colab": {
      "collapsed_sections": [],
      "name": "Project2-Spring-Feb26-v1.ipynb",
      "provenance": [],
      "toc_visible": true,
      "include_colab_link": true
    },
    "kernelspec": {
      "display_name": "Python 3 (ipykernel)",
      "language": "python",
      "name": "python3"
    },
    "language_info": {
      "codemirror_mode": {
        "name": "ipython",
        "version": 3
      },
      "file_extension": ".py",
      "mimetype": "text/x-python",
      "name": "python",
      "nbconvert_exporter": "python",
      "pygments_lexer": "ipython3",
      "version": "3.8.10"
    },
    "latex_envs": {
      "LaTeX_envs_menu_present": true,
      "autoclose": false,
      "autocomplete": false,
      "bibliofile": "biblio.bib",
      "cite_by": "apalike",
      "current_citInitial": 1,
      "eqLabelWithNumbers": true,
      "eqNumInitial": 1,
      "hotkeys": {
        "equation": "Ctrl-E",
        "itemize": "Ctrl-I"
      },
      "labels_anchors": false,
      "latex_user_defs": false,
      "report_style_numbering": false,
      "user_envs_cfg": false
    }
  },
  "nbformat": 4,
  "nbformat_minor": 0
}